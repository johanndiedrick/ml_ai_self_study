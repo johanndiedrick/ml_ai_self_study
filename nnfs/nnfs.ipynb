{
 "cells": [
  {
   "cell_type": "markdown",
   "metadata": {},
   "source": [
    "# Chapter 1: Introducing Neural Networks\n",
    "\n",
    "- [NNFS Intro Video and Playlist](https://www.youtube.com/watch?v=Wo5dMEP_BbI&list=PLQVvvaa0QuDcjD5BAw2DxE6OF2tius3V3&index=1)\n",
    "\n",
    "- Artifical Intelligence > Machine Learning > Neural Networks > Deep Neural Networks\n",
    "\n",
    "- Deep neural networks: more than one hidden layer\n",
    "\n",
    "- Supervised Machine Learning: pre-established and labeled data for training\n",
    "\n",
    "- Feature: discreet measurement used for training\n",
    "\n",
    "- Feature set: group of features (represented as vectors or arrays)\n",
    "\n",
    "- Sample: values of a feature set\n",
    "\n",
    "- Classifications or labels: goal or target\n",
    "\n",
    "- Regression: for predicting numerical values\n",
    "\n",
    "- Unsupervised Machine Learning: unknown labels/classes\n",
    "\n",
    "## What is a Neural Network?\n",
    "\n",
    "- Inspired by the organic brain\n",
    "\n",
    "- Dense layers: consist of interconnected neurons - each neuron of a given layer is connected to every neuron of the next lauyer\n",
    "\n",
    "- Each connection has a **weight** associated with it, which is a **trainable** factor of how much of this input to use, and this weight gets multiplied by the input value\n",
    "\n",
    "- Once all the *input-weights* flow into our neuron, they are summed, and a **bias** is added, which is also **trainable**\n",
    "\n",
    "- We adjust our weights and biases to tune our model to fit the data\n",
    "\n",
    "- Weights: change the magnitude of an input's impact on the network\n",
    "\n",
    "- Biases: adjust the offset of the overall function\n",
    "\n",
    "- **Output = Weight * Input + Bias**\n",
    "\n",
    "- Weights and biases help to impact the outputs of neurons\n",
    "\n",
    "- For a single neuron:\n",
    "\n",
    "    - `output = sum(inputs * weights) + bias`\n",
    "\n",
    "    - `output = activation(output)`\n",
    "\n",
    "- Rectified Linear (ReLu) activation function acts like our step function\n",
    "\n",
    "- Input data is usually preprocessed through normalization and scaling\n",
    "\n",
    "- Output layer typically has as many neurons as the training data has classes\n",
    "\n",
    "- Parameters: adjustable weights and biases\n",
    "\n",
    "- Finding the combination of weights and biases that yield our desired output is the task of training a neural net model\n",
    "\n",
    "- Overfitting: when the network learns to fit the training data but doesn't generalize enough to work on inputs it hasn't seen before\n",
    "\n",
    "- Training data: what the model sees\n",
    "\n",
    "- Validation data: used to check the models accuracy and quality\n",
    "\n",
    "- Test data: confirm model accuracy after training. The model **never** sees data this during training\n",
    "\n",
    "- Generalization: learning to fit the data intead of memorizing it\n",
    "\n",
    "- Loss: calculation of how \"wrong\" the model is at predicting the correct output\n",
    "\n",
    "- We then adjust the parameters to decrease loss (less wrong)\n",
    "\n",
    "## Neural Network\n",
    "\n",
    "- Input layer\n",
    "\n",
    "- Hidden layers\n",
    "\n",
    "- Output layer\n",
    "\n",
    "## Training\n",
    "\n",
    "- Tuning weights and biases\n",
    "\n",
    "\n",
    "\n"
   ]
  },
  {
   "cell_type": "markdown",
   "metadata": {},
   "source": [
    "# Chapter 2: Coding Our First Neurons\n",
    "\n",
    "- The input to a neuron will either be actual training data or outputs of neurons from a previous layer"
   ]
  },
  {
   "cell_type": "code",
   "execution_count": 67,
   "metadata": {},
   "outputs": [],
   "source": [
    "# https://www.youtube.com/watch?v=Wo5dMEP_BbI&list=PLQVvvaa0QuDcjD5BAw2DxE6OF2tius3V3&index=1\n",
    "\n",
    "import numpy as np"
   ]
  },
  {
   "cell_type": "code",
   "execution_count": 68,
   "metadata": {},
   "outputs": [
    {
     "data": {
      "text/plain": [
       "4.8"
      ]
     },
     "execution_count": 68,
     "metadata": {},
     "output_type": "execute_result"
    }
   ],
   "source": [
    "# Single Neuron\n",
    "\n",
    "inputs = [1, 2, 3, 2.5]\n",
    "\n",
    "weights = [0.2, 0.8, -0.5, 1.0]\n",
    "\n",
    "bias = 2 # every neuron has one unique bias\n",
    "\n",
    "# inputs x weights + bias\n",
    "\n",
    "output = ( \n",
    "    inputs[0]*weights[0] + \n",
    "    inputs[1]*weights[1] + \n",
    "    inputs[2]*weights[2] + \n",
    "    inputs[3]*weights[3]\n",
    " ) + bias\n",
    "\n",
    "output"
   ]
  },
  {
   "cell_type": "code",
   "execution_count": 69,
   "metadata": {},
   "outputs": [
    {
     "data": {
      "text/plain": [
       "[4.8, 1.21, 2.385]"
      ]
     },
     "execution_count": 69,
     "metadata": {},
     "output_type": "execute_result"
    }
   ],
   "source": [
    "# A Layer of Neurons\n",
    "\n",
    "# https://www.youtube.com/watch?v=lGLto9Xd7bU&list=PLQVvvaa0QuDcjD5BAw2DxE6OF2tius3V3&index=2\n",
    "\n",
    "# Layers are simply a group of neurons\n",
    "\n",
    "# One layer of three neurons taking in three inputs\n",
    "inputs = [1, 2, 3, 2.5]\n",
    "\n",
    "weights1 = [0.2, 0.8, -0.5, 1.0]\n",
    "weights2 = [0.5, -0.91, 0.26, -0.5]\n",
    "weights3 = [-0.26, -0.27, 0.17, 0.87]\n",
    "\n",
    "bias1 = 2 # every neuron has one unique bias\n",
    "bias2 = 3 # every neuron has one unique bias\n",
    "bias3 = 0.5 # every neuron has one unique bias\n",
    "\n",
    "# inputs x weights + bias\n",
    "\n",
    "output = [\n",
    "    inputs[0]*weights1[0] + inputs[1]*weights1[1] + inputs[2]*weights1[2] + inputs[3]*weights1[3] + bias1, # neuron 1\n",
    "    inputs[0]*weights2[0] + inputs[1]*weights2[1] + inputs[2]*weights2[2] + inputs[3]*weights2[3] + bias2, # neuron 2\n",
    "    inputs[0]*weights3[0] + inputs[1]*weights3[1] + inputs[2]*weights3[2] + inputs[3]*weights3[3] + bias3  # neuron 3\n",
    "]\n",
    "\n",
    "output # three output values, one for each neuron\n",
    "\n",
    "# this is a fully connected neural network - every neuron in the current layer has connections to every neuron from the previous layer\n",
    "\n",
    "# we can change the output by tuning the weights and biases"
   ]
  },
  {
   "cell_type": "code",
   "execution_count": 70,
   "metadata": {},
   "outputs": [
    {
     "data": {
      "text/plain": [
       "[4.8, 1.21, 2.385]"
      ]
     },
     "execution_count": 70,
     "metadata": {},
     "output_type": "execute_result"
    }
   ],
   "source": [
    "# One layer of three neurons taking in three inputs\n",
    "\n",
    "# https://www.youtube.com/watch?v=tMrbN67U9d4&list=PLQVvvaa0QuDcjD5BAw2DxE6OF2tius3V3&index=3\n",
    "\n",
    "inputs = [1, 2, 3, 2.5]\n",
    "\n",
    "weights = [\n",
    "    [0.2, 0.8, -0.5, 1.0],\n",
    "    [0.5, -0.91, 0.26, -0.5],\n",
    "    [-0.26, -0.27, 0.17, 0.87]\n",
    "]\n",
    "\n",
    "biases = [\n",
    "    2,\n",
    "    3,\n",
    "    0.5,\n",
    "]\n",
    "\n",
    "# a bias will offset a value\n",
    "\n",
    "output = []\n",
    "\n",
    "# inputs x weights + bias\n",
    "for neuron_weight, neuron_bias in zip(weights, biases):\n",
    "    neuron_output = 0\n",
    "    for n_input, n_weight in zip(inputs, neuron_weight):\n",
    "        neuron_output += n_input * n_weight\n",
    "    \n",
    "    # add bias\n",
    "    neuron_output += neuron_bias\n",
    "    output.append(neuron_output)\n",
    "\n",
    "output"
   ]
  },
  {
   "cell_type": "code",
   "execution_count": 71,
   "metadata": {},
   "outputs": [
    {
     "data": {
      "text/plain": [
       "[[[1, 2, 3, 4], [5, 6, 7, 8]],\n",
       " [[1, 2, 3, 4], [5, 6, 7, 8]],\n",
       " [[1, 2, 3, 4], [5, 6, 7, 8]]]"
      ]
     },
     "execution_count": 71,
     "metadata": {},
     "output_type": "execute_result"
    }
   ],
   "source": [
    "# Tensors, Arrays, and Vectors\n",
    "\n",
    "# shape - number of elements\n",
    "list = [1, 5, 6, 2] #  array, shape: (4,), type: 1D array, Vector\n",
    "\n",
    "list_of_lists = [ # shape: (2, 4), type: 2D Array, Matrix\n",
    "    [1,2,3,4],\n",
    "    [5,6,7,8]\n",
    "    ]\n",
    "\n",
    "\n",
    "# arrays need to be homologous - at each dimension, they need to have the same size for each dimension\n",
    "\n",
    "list_of_lists_of_lists = [ # shape: (3, 2, 4), Type: 3D Array\n",
    "    [\n",
    "        [1,2,3,4],\n",
    "        [5,6,7,8]\n",
    "    ],\n",
    "    [\n",
    "        [1,2,3,4],\n",
    "        [5,6,7,8]\n",
    "    ],\n",
    "    [\n",
    "        [1,2,3,4],\n",
    "        [5,6,7,8]\n",
    "    ]\n",
    "]\n",
    "\n",
    "list_of_lists_of_lists"
   ]
  },
  {
   "cell_type": "code",
   "execution_count": 72,
   "metadata": {},
   "outputs": [
    {
     "ename": "AttributeError",
     "evalue": "'list' object has no attribute 'astype'",
     "output_type": "error",
     "traceback": [
      "\u001b[0;31m---------------------------------------------------------------------------\u001b[0m",
      "\u001b[0;31mAttributeError\u001b[0m                            Traceback (most recent call last)",
      "Cell \u001b[0;32mIn[72], line 18\u001b[0m\n\u001b[1;32m     14\u001b[0m weights \u001b[38;5;241m=\u001b[39m [\u001b[38;5;241m0.2\u001b[39m, \u001b[38;5;241m0.8\u001b[39m, \u001b[38;5;241m-\u001b[39m\u001b[38;5;241m0.5\u001b[39m, \u001b[38;5;241m1.0\u001b[39m]\n\u001b[1;32m     16\u001b[0m bias \u001b[38;5;241m=\u001b[39m \u001b[38;5;241m2\u001b[39m\n\u001b[0;32m---> 18\u001b[0m output \u001b[38;5;241m=\u001b[39m \u001b[43mnp\u001b[49m\u001b[38;5;241;43m.\u001b[39;49m\u001b[43mdot\u001b[49m\u001b[43m(\u001b[49m\u001b[43mweights\u001b[49m\u001b[43m,\u001b[49m\u001b[43m \u001b[49m\u001b[43minputs\u001b[49m\u001b[43m)\u001b[49m \u001b[38;5;241m+\u001b[39m bias \u001b[38;5;66;03m# order matters!!!\u001b[39;00m\n\u001b[1;32m     20\u001b[0m \u001b[38;5;28mprint\u001b[39m(output)\n\u001b[1;32m     22\u001b[0m \u001b[38;5;66;03m#####\u001b[39;00m\n\u001b[1;32m     23\u001b[0m \n\u001b[1;32m     24\u001b[0m \u001b[38;5;66;03m# One layer of three neurons taking in three inputs\u001b[39;00m\n",
      "File \u001b[0;32m/opt/homebrew/anaconda3/envs/aql/lib/python3.12/site-packages/nnfs/core.py:22\u001b[0m, in \u001b[0;36minit.<locals>.dot\u001b[0;34m(*args, **kwargs)\u001b[0m\n\u001b[1;32m     21\u001b[0m \u001b[38;5;28;01mdef\u001b[39;00m \u001b[38;5;21mdot\u001b[39m(\u001b[38;5;241m*\u001b[39margs, \u001b[38;5;241m*\u001b[39m\u001b[38;5;241m*\u001b[39mkwargs):\n\u001b[0;32m---> 22\u001b[0m     \u001b[38;5;28;01mreturn\u001b[39;00m orig_dot(\u001b[38;5;241m*\u001b[39m[\u001b[43ma\u001b[49m\u001b[38;5;241;43m.\u001b[39;49m\u001b[43mastype\u001b[49m(\u001b[38;5;124m'\u001b[39m\u001b[38;5;124mfloat64\u001b[39m\u001b[38;5;124m'\u001b[39m) \u001b[38;5;28;01mfor\u001b[39;00m a \u001b[38;5;129;01min\u001b[39;00m args], \u001b[38;5;241m*\u001b[39m\u001b[38;5;241m*\u001b[39mkwargs)\u001b[38;5;241m.\u001b[39mastype(\u001b[38;5;124m'\u001b[39m\u001b[38;5;124mfloat32\u001b[39m\u001b[38;5;124m'\u001b[39m)\n",
      "\u001b[0;31mAttributeError\u001b[0m: 'list' object has no attribute 'astype'"
     ]
    }
   ],
   "source": [
    "# Tensors, Arrays, Vectors, Dot Product\n",
    "\n",
    "# https://www.youtube.com/watch?v=tMrbN67U9d4&list=PLQVvvaa0QuDcjD5BAw2DxE6OF2tius3V3&index=3\n",
    "\n",
    "# a tensor, object that can be represented as an array\n",
    "\n",
    "# multiply a matrix of vectors - dot product! (matrix product)\n",
    "\n",
    "# dot product - multiply element-wise and add values together\n",
    "\n",
    "# One layer of three neurons taking in three inputs\n",
    "inputs = [1, 2, 3, 2.5]\n",
    "\n",
    "weights = [0.2, 0.8, -0.5, 1.0]\n",
    "\n",
    "bias = 2\n",
    "\n",
    "output = np.dot(weights, inputs) + bias # order matters!!!\n",
    "\n",
    "print(output)\n",
    "\n",
    "#####\n",
    "\n",
    "# One layer of three neurons taking in three inputs\n",
    "inputs = [1, 2, 3, 2.5]\n",
    "\n",
    "weights = [\n",
    "    [0.2, 0.8, -0.5, 1.0],\n",
    "    [0.5, -0.91, 0.26, -0.5],\n",
    "    [-0.26, -0.27, 0.17, 0.87]\n",
    "]\n",
    "\n",
    "biases = [\n",
    "    2,\n",
    "    3,\n",
    "    0.5,\n",
    "]\n",
    "\n",
    "output = np.dot(weights, inputs) + biases # want the output to be the value of the weights. whatever comes first determines the output shape\n",
    "print(output)"
   ]
  },
  {
   "cell_type": "code",
   "execution_count": null,
   "metadata": {},
   "outputs": [
    {
     "ename": "AttributeError",
     "evalue": "'list' object has no attribute 'astype'",
     "output_type": "error",
     "traceback": [
      "\u001b[0;31m---------------------------------------------------------------------------\u001b[0m",
      "\u001b[0;31mAttributeError\u001b[0m                            Traceback (most recent call last)",
      "Cell \u001b[0;32mIn[15], line 35\u001b[0m\n\u001b[1;32m     21\u001b[0m biases \u001b[38;5;241m=\u001b[39m [\n\u001b[1;32m     22\u001b[0m     \u001b[38;5;241m2\u001b[39m,\n\u001b[1;32m     23\u001b[0m     \u001b[38;5;241m3\u001b[39m,\n\u001b[1;32m     24\u001b[0m     \u001b[38;5;241m0.5\u001b[39m,\n\u001b[1;32m     25\u001b[0m ]\n\u001b[1;32m     27\u001b[0m \u001b[38;5;66;03m# left matrix (3, 4), right matrix (4, 3)\u001b[39;00m\n\u001b[1;32m     28\u001b[0m \u001b[38;5;66;03m# size of second dimension of left matrix must match size of first dimension in right matrix\u001b[39;00m\n\u001b[1;32m     29\u001b[0m \u001b[38;5;66;03m# resulting matrix will have size of first dimension of left matrix and second dimension of right matrix: (3, 3)\u001b[39;00m\n\u001b[0;32m   (...)\u001b[0m\n\u001b[1;32m     32\u001b[0m \n\u001b[1;32m     33\u001b[0m \u001b[38;5;66;03m# to fit matrix multiplication we transpose input matrix - switch rowws and columns\u001b[39;00m\n\u001b[0;32m---> 35\u001b[0m output \u001b[38;5;241m=\u001b[39m \u001b[43mnp\u001b[49m\u001b[38;5;241;43m.\u001b[39;49m\u001b[43mdot\u001b[49m\u001b[43m(\u001b[49m\u001b[43minputs\u001b[49m\u001b[43m,\u001b[49m\u001b[43m \u001b[49m\u001b[43mnp\u001b[49m\u001b[38;5;241;43m.\u001b[39;49m\u001b[43marray\u001b[49m\u001b[43m(\u001b[49m\u001b[43mweights\u001b[49m\u001b[43m)\u001b[49m\u001b[38;5;241;43m.\u001b[39;49m\u001b[43mT\u001b[49m\u001b[43m)\u001b[49m \u001b[38;5;241m+\u001b[39m biases \u001b[38;5;66;03m# want the output to be the value of the weights\u001b[39;00m\n\u001b[1;32m     36\u001b[0m \u001b[38;5;28mprint\u001b[39m(output)\n\u001b[1;32m     38\u001b[0m \u001b[38;5;124;03m\"\"\"\u001b[39;00m\n\u001b[1;32m     39\u001b[0m \u001b[38;5;124;03ma list of layer outputs, one for each input\u001b[39;00m\n\u001b[1;32m     40\u001b[0m \u001b[38;5;124;03m[\u001b[39;00m\n\u001b[0;32m   (...)\u001b[0m\n\u001b[1;32m     44\u001b[0m \n\u001b[1;32m     45\u001b[0m \u001b[38;5;124;03m\"\"\"\u001b[39;00m\n",
      "File \u001b[0;32m/opt/homebrew/anaconda3/envs/aql/lib/python3.12/site-packages/nnfs/core.py:22\u001b[0m, in \u001b[0;36minit.<locals>.dot\u001b[0;34m(*args, **kwargs)\u001b[0m\n\u001b[1;32m     21\u001b[0m \u001b[38;5;28;01mdef\u001b[39;00m \u001b[38;5;21mdot\u001b[39m(\u001b[38;5;241m*\u001b[39margs, \u001b[38;5;241m*\u001b[39m\u001b[38;5;241m*\u001b[39mkwargs):\n\u001b[0;32m---> 22\u001b[0m     \u001b[38;5;28;01mreturn\u001b[39;00m orig_dot(\u001b[38;5;241m*\u001b[39m[\u001b[43ma\u001b[49m\u001b[38;5;241;43m.\u001b[39;49m\u001b[43mastype\u001b[49m(\u001b[38;5;124m'\u001b[39m\u001b[38;5;124mfloat64\u001b[39m\u001b[38;5;124m'\u001b[39m) \u001b[38;5;28;01mfor\u001b[39;00m a \u001b[38;5;129;01min\u001b[39;00m args], \u001b[38;5;241m*\u001b[39m\u001b[38;5;241m*\u001b[39mkwargs)\u001b[38;5;241m.\u001b[39mastype(\u001b[38;5;124m'\u001b[39m\u001b[38;5;124mfloat32\u001b[39m\u001b[38;5;124m'\u001b[39m)\n",
      "\u001b[0;31mAttributeError\u001b[0m: 'list' object has no attribute 'astype'"
     ]
    }
   ],
   "source": [
    "# A Batch of Data\n",
    "# Allow us to process in parallel\n",
    "# Helps with generalization, show multiple samples at a time\n",
    "# Too large a batch size, you get overfitting\n",
    "\n",
    "# https://www.youtube.com/watch?v=TEWy9vZcxW4&list=PLQVvvaa0QuDcjD5BAw2DxE6OF2tius3V3&index=4\n",
    "\n",
    "\n",
    "# One layer of three neurons taking in three inputs\n",
    "inputs = [[1, 2, 3, 2.5],\n",
    "          [2.0, 5.0, -1.0, 2.0],\n",
    "          [-1.5, 2.7, 3.3, -0.8]\n",
    "]\n",
    "\n",
    "weights = [\n",
    "    [0.2, 0.8, -0.5, 1.0],\n",
    "    [0.5, -0.91, 0.26, -0.5],\n",
    "    [-0.26, -0.27, 0.17, 0.87]\n",
    "]\n",
    "\n",
    "biases = [\n",
    "    2,\n",
    "    3,\n",
    "    0.5,\n",
    "]\n",
    "\n",
    "# left matrix (3, 4), right matrix (4, 3)\n",
    "# size of second dimension of left matrix must match size of first dimension in right matrix\n",
    "# resulting matrix will have size of first dimension of left matrix and second dimension of right matrix: (3, 3)\n",
    "\n",
    "# to do matrix multiplication, take left matrix, turn into row vector, take right matrix, turn into column vector and transpose, do dot product!\n",
    "\n",
    "# to fit matrix multiplication we transpose input matrix - switch rowws and columns\n",
    "\n",
    "output = np.dot(inputs, np.array(weights).T) + biases # want the output to be the value of the weights\n",
    "print(output)\n",
    "\n",
    "\"\"\"\n",
    "a list of layer outputs, one for each input\n",
    "[\n",
    "    [ 4.8    1.21   2.385] # input 1 x weight col 1, 2, 3\n",
    "    [ 8.9   -1.81   0.2  ] # input 2 x weight col 1, 2, 3\n",
    "    [ 1.41   1.051  0.026]] # input 3 x weight col 1, 2, 3\n",
    "\n",
    "\"\"\"\n",
    "\n"
   ]
  },
  {
   "cell_type": "code",
   "execution_count": null,
   "metadata": {},
   "outputs": [
    {
     "data": {
      "text/plain": [
       "array([[1, 2, 3]])"
      ]
     },
     "execution_count": 16,
     "metadata": {},
     "output_type": "execute_result"
    }
   ],
   "source": [
    "# play around with axis to get an intuition around how expand dims works\n",
    "a = [1, 2, 3]\n",
    "np.expand_dims(np.array(a), axis=0)"
   ]
  },
  {
   "cell_type": "code",
   "execution_count": null,
   "metadata": {},
   "outputs": [
    {
     "data": {
      "text/plain": [
       "array([[32.]], dtype=float32)"
      ]
     },
     "execution_count": 17,
     "metadata": {},
     "output_type": "execute_result"
    }
   ],
   "source": [
    "a = [1, 2, 3]\n",
    "b = [4, 5, 6]\n",
    "\n",
    "a = np.array([a])\n",
    "b = np.array([b]).T\n",
    "\n",
    "np.dot(a, b)"
   ]
  },
  {
   "cell_type": "markdown",
   "metadata": {},
   "source": [
    "# Chapter 3: Adding Layers"
   ]
  },
  {
   "cell_type": "code",
   "execution_count": null,
   "metadata": {},
   "outputs": [
    {
     "ename": "AttributeError",
     "evalue": "'list' object has no attribute 'astype'",
     "output_type": "error",
     "traceback": [
      "\u001b[0;31m---------------------------------------------------------------------------\u001b[0m",
      "\u001b[0;31mAttributeError\u001b[0m                            Traceback (most recent call last)",
      "Cell \u001b[0;32mIn[18], line 34\u001b[0m\n\u001b[1;32m     22\u001b[0m weights2 \u001b[38;5;241m=\u001b[39m [\n\u001b[1;32m     23\u001b[0m     [\u001b[38;5;241m0.1\u001b[39m, \u001b[38;5;241m-\u001b[39m\u001b[38;5;241m0.14\u001b[39m, \u001b[38;5;241m0.5\u001b[39m],\n\u001b[1;32m     24\u001b[0m     [\u001b[38;5;241m-\u001b[39m\u001b[38;5;241m0.5\u001b[39m, \u001b[38;5;241m0.12\u001b[39m, \u001b[38;5;241m-\u001b[39m\u001b[38;5;241m0.33\u001b[39m],\n\u001b[1;32m     25\u001b[0m     [\u001b[38;5;241m-\u001b[39m\u001b[38;5;241m0.44\u001b[39m, \u001b[38;5;241m0.73\u001b[39m, \u001b[38;5;241m-\u001b[39m\u001b[38;5;241m0.13\u001b[39m]\n\u001b[1;32m     26\u001b[0m ]\n\u001b[1;32m     28\u001b[0m biases2 \u001b[38;5;241m=\u001b[39m [\n\u001b[1;32m     29\u001b[0m     \u001b[38;5;241m-\u001b[39m\u001b[38;5;241m1\u001b[39m,\n\u001b[1;32m     30\u001b[0m     \u001b[38;5;241m2\u001b[39m,\n\u001b[1;32m     31\u001b[0m     \u001b[38;5;241m-\u001b[39m\u001b[38;5;241m0.5\u001b[39m,\n\u001b[1;32m     32\u001b[0m ]\n\u001b[0;32m---> 34\u001b[0m layer1_outputs \u001b[38;5;241m=\u001b[39m \u001b[43mnp\u001b[49m\u001b[38;5;241;43m.\u001b[39;49m\u001b[43mdot\u001b[49m\u001b[43m(\u001b[49m\u001b[43minputs\u001b[49m\u001b[43m,\u001b[49m\u001b[43m \u001b[49m\u001b[43mnp\u001b[49m\u001b[38;5;241;43m.\u001b[39;49m\u001b[43marray\u001b[49m\u001b[43m(\u001b[49m\u001b[43mweights\u001b[49m\u001b[43m)\u001b[49m\u001b[38;5;241;43m.\u001b[39;49m\u001b[43mT\u001b[49m\u001b[43m)\u001b[49m \u001b[38;5;241m+\u001b[39m biases \u001b[38;5;66;03m# want the output to be the value of the weights\u001b[39;00m\n\u001b[1;32m     35\u001b[0m layer2_outputs \u001b[38;5;241m=\u001b[39m np\u001b[38;5;241m.\u001b[39mdot(layer1_outputs, np\u001b[38;5;241m.\u001b[39marray(weights2)\u001b[38;5;241m.\u001b[39mT) \u001b[38;5;241m+\u001b[39m biases2\n\u001b[1;32m     36\u001b[0m \u001b[38;5;28mprint\u001b[39m(layer2_outputs)\n",
      "File \u001b[0;32m/opt/homebrew/anaconda3/envs/aql/lib/python3.12/site-packages/nnfs/core.py:22\u001b[0m, in \u001b[0;36minit.<locals>.dot\u001b[0;34m(*args, **kwargs)\u001b[0m\n\u001b[1;32m     21\u001b[0m \u001b[38;5;28;01mdef\u001b[39;00m \u001b[38;5;21mdot\u001b[39m(\u001b[38;5;241m*\u001b[39margs, \u001b[38;5;241m*\u001b[39m\u001b[38;5;241m*\u001b[39mkwargs):\n\u001b[0;32m---> 22\u001b[0m     \u001b[38;5;28;01mreturn\u001b[39;00m orig_dot(\u001b[38;5;241m*\u001b[39m[\u001b[43ma\u001b[49m\u001b[38;5;241;43m.\u001b[39;49m\u001b[43mastype\u001b[49m(\u001b[38;5;124m'\u001b[39m\u001b[38;5;124mfloat64\u001b[39m\u001b[38;5;124m'\u001b[39m) \u001b[38;5;28;01mfor\u001b[39;00m a \u001b[38;5;129;01min\u001b[39;00m args], \u001b[38;5;241m*\u001b[39m\u001b[38;5;241m*\u001b[39mkwargs)\u001b[38;5;241m.\u001b[39mastype(\u001b[38;5;124m'\u001b[39m\u001b[38;5;124mfloat32\u001b[39m\u001b[38;5;124m'\u001b[39m)\n",
      "\u001b[0;31mAttributeError\u001b[0m: 'list' object has no attribute 'astype'"
     ]
    }
   ],
   "source": [
    "# having more than one hidden layer is what makes a NN \"deep\"\n",
    "# adding another layer\n",
    "\n",
    "\n",
    "inputs = [[1, 2, 3, 2.5],\n",
    "          [2.0, 5.0, -1.0, 2.0],\n",
    "          [-1.5, 2.7, 3.3, -0.8]\n",
    "]\n",
    "\n",
    "weights = [\n",
    "    [0.2, 0.8, -0.5, 1.0],\n",
    "    [0.5, -0.91, 0.26, -0.5],\n",
    "    [-0.26, -0.27, 0.17, 0.87]\n",
    "]\n",
    "\n",
    "biases = [\n",
    "    2,\n",
    "    3,\n",
    "    0.5,\n",
    "]\n",
    "\n",
    "weights2 = [\n",
    "    [0.1, -0.14, 0.5],\n",
    "    [-0.5, 0.12, -0.33],\n",
    "    [-0.44, 0.73, -0.13]\n",
    "]\n",
    "\n",
    "biases2 = [\n",
    "    -1,\n",
    "    2,\n",
    "    -0.5,\n",
    "]\n",
    "\n",
    "layer1_outputs = np.dot(inputs, np.array(weights).T) + biases # want the output to be the value of the weights\n",
    "layer2_outputs = np.dot(layer1_outputs, np.array(weights2).T) + biases2\n",
    "print(layer2_outputs)\n"
   ]
  },
  {
   "cell_type": "code",
   "execution_count": null,
   "metadata": {},
   "outputs": [
    {
     "name": "stdout",
     "output_type": "stream",
     "text": [
      "(500, 2)\n"
     ]
    },
    {
     "data": {
      "image/png": "[encoded data removed]",
      "text/plain": [
       "<Figure size 640x480 with 1 Axes>"
      ]
     },
     "metadata": {},
     "output_type": "display_data"
    }
   ],
   "source": [
    "# Training Data\n",
    "import numpy as np\n",
    "import nnfs\n",
    "from nnfs.datasets import spiral_data\n",
    "\n",
    "nnfs.init()\n",
    "\n",
    "import matplotlib.pyplot as plt\n",
    "\n",
    "X, y = spiral_data(samples=100, classes=5)\n",
    "\n",
    "print(X.shape)\n",
    "plt.scatter(X[:, 0], X[:, 1], c=y, cmap='brg')\n",
    "plt.show()"
   ]
  },
  {
   "cell_type": "code",
   "execution_count": null,
   "metadata": {},
   "outputs": [
    {
     "name": "stdout",
     "output_type": "stream",
     "text": [
      "[[ 0.44336     0.32275945  0.61719924  0.719439    0.35786763]\n",
      " [ 0.37096313  0.31298566  0.67615867  0.6538797   0.44335055]\n",
      " [ 0.3463683   0.18378799  0.27120933  0.42165083 -0.00617808]]\n",
      "[[0.09457125 0.18292226]\n",
      " [0.09125376 0.17749813]\n",
      " [0.05130749 0.09895662]]\n"
     ]
    }
   ],
   "source": [
    "# tinyvoice neuron\n",
    "\n",
    "# dense layers, also known as fully-connected or \"fc\"\n",
    "\n",
    "# input feature set is denoted with X (capital X)\n",
    "\n",
    "import numpy as np\n",
    "\n",
    "np.random.seed(0)\n",
    "\n",
    "X = [[1, 2, 3, 2.5],\n",
    "          [2.0, 5.0, -1.0, 2.0],\n",
    "          [-1.5, 2.7, 3.3, -0.8]\n",
    "]\n",
    "\n",
    "class TinyVoice_Layer_Dense:\n",
    "    def __init__(self, n_inputs, n_neurons):\n",
    "        self.weights = 0.10 * np.random.rand(n_inputs, n_neurons) # when you load a pretrained model, you init the parameters of your model with what was prtrained!\n",
    "        self.biases = np.zeros((1, n_neurons))\n",
    "\n",
    "    def forward(self, inputs):\n",
    "        inputs = np.array(inputs)\n",
    "        self.output = np.dot(inputs, self.weights) + self.biases\n",
    "\n",
    "tv_layer1 = TinyVoice_Layer_Dense(4, 5)\n",
    "tv_layer2 = TinyVoice_Layer_Dense(5, 2)\n",
    "\n",
    "tv_layer1.forward(X)\n",
    "\n",
    "print(tv_layer1.output)\n",
    "\n",
    "tv_layer2.forward(tv_layer1.output)\n",
    "\n",
    "\n",
    "print(tv_layer2.output)\n"
   ]
  },
  {
   "cell_type": "markdown",
   "metadata": {},
   "source": [
    "# Chapter 4: Activation Functions"
   ]
  },
  {
   "cell_type": "markdown",
   "metadata": {},
   "source": [
    "## Step Activation Function\n",
    "1 if x is > 0, else 0"
   ]
  },
  {
   "cell_type": "markdown",
   "metadata": {},
   "source": [
    "## Linear Activation Function\n",
    "Return x (output value equals input)"
   ]
  },
  {
   "cell_type": "markdown",
   "metadata": {},
   "source": [
    "## Sigmoid Activation Function\n",
    "y = 1 / 1 + e ^ -x\n",
    "\n",
    "Allows us to map the output back to the input, which is very informative"
   ]
  },
  {
   "cell_type": "markdown",
   "metadata": {},
   "source": []
  },
  {
   "cell_type": "markdown",
   "metadata": {},
   "source": [
    "Rectified Linear Activation Function (ReLU)\n",
    "\n",
    "Return x if x > 0, else return 0\n",
    "\n",
    "Also said, max(0, x)"
   ]
  },
  {
   "cell_type": "markdown",
   "metadata": {},
   "source": [
    "## Why use activation functions?\n",
    "\n",
    "- Allows our neural network to fit non-linear functions\n",
    "\n",
    "- Neural networks with only linear activation functions can only represent linear relationships"
   ]
  },
  {
   "cell_type": "markdown",
   "metadata": {},
   "source": []
  },
  {
   "cell_type": "code",
   "execution_count": null,
   "metadata": {},
   "outputs": [
    {
     "name": "stdout",
     "output_type": "stream",
     "text": [
      "[0, 2, 0, 3.3, 0, 1.1, 2.2, 0]\n"
     ]
    }
   ],
   "source": [
    "# ReLU code\n",
    "\n",
    "inputs = [0, 2, -1, 3.3, -2.7, 1.1, 2.2, -100]\n",
    "\n",
    "output = []\n",
    "\n",
    "for i in inputs:\n",
    "    if i > 0:\n",
    "        output.append(i)\n",
    "    else:\n",
    "        output.append(0)\n",
    "\n",
    "print(output)"
   ]
  },
  {
   "cell_type": "code",
   "execution_count": null,
   "metadata": {},
   "outputs": [
    {
     "name": "stdout",
     "output_type": "stream",
     "text": [
      "[0, 2, 0, 3.3, 0, 1.1, 2.2, 0]\n"
     ]
    }
   ],
   "source": [
    "# ReLU code - better version\n",
    "\n",
    "inputs = [0, 2, -1, 3.3, -2.7, 1.1, 2.2, -100]\n",
    "\n",
    "output = []\n",
    "\n",
    "for i in inputs:\n",
    "    output.append(max(0, i))\n",
    "\n",
    "print(output)"
   ]
  },
  {
   "cell_type": "markdown",
   "metadata": {},
   "source": []
  },
  {
   "cell_type": "code",
   "execution_count": null,
   "metadata": {},
   "outputs": [
    {
     "name": "stdout",
     "output_type": "stream",
     "text": [
      "[0.  2.  0.  3.3 0.  1.1 2.2 0. ]\n"
     ]
    }
   ],
   "source": [
    "# ReLU code - with NumPy\n",
    "import numpy as np\n",
    "\n",
    "inputs = [0, 2, -1, 3.3, -2.7, 1.1, 2.2, -100]\n",
    "\n",
    "outputs = np.maximum(0, inputs)\n",
    "\n",
    "print(outputs)"
   ]
  },
  {
   "cell_type": "code",
   "execution_count": null,
   "metadata": {},
   "outputs": [],
   "source": [
    "# ReLU Activation Class\n",
    "\n",
    "class Activation_ReLU:\n",
    "    def forward(self, inputs):\n",
    "        self.output = np.maximum(0, inputs)"
   ]
  },
  {
   "cell_type": "code",
   "execution_count": null,
   "metadata": {},
   "outputs": [
    {
     "name": "stdout",
     "output_type": "stream",
     "text": [
      "[[0.         0.         0.        ]\n",
      " [0.00056676 0.00094518 0.00093296]\n",
      " [0.00054714 0.00047983 0.00069065]\n",
      " [0.00154467 0.00267567 0.00259109]\n",
      " [0.00249388 0.00360322 0.00383546]]\n"
     ]
    }
   ],
   "source": [
    "# adding this activation function to the dense layer outputs from our class\n",
    "\n",
    "X, y = spiral_data(samples=100, classes=3)\n",
    "\n",
    "dense1 = TinyVoice_Layer_Dense(2, 3)\n",
    "activation1 = Activation_ReLU()\n",
    "\n",
    "# make a forward pass\n",
    "dense1.forward(X)\n",
    "\n",
    "# take the output from our dense layer and pass through activaiton layer\n",
    "\n",
    "activation1.forward(dense1.output)\n",
    "\n",
    "print(activation1.output[:5]) # no values below 0! anything strictly 0 was negative beforehand\n"
   ]
  },
  {
   "cell_type": "markdown",
   "metadata": {},
   "source": [
    "## Softmax"
   ]
  },
  {
   "cell_type": "markdown",
   "metadata": {},
   "source": [
    "- input: non-normalized, uncalibratd\n",
    "- output: normalized distribution of probabilities\n",
    "\n",
    "- Softmax produces **confidence scores** for each class, that add up to 1\n",
    "\n",
    "- The predicted class will have the largest confidence score"
   ]
  },
  {
   "cell_type": "code",
   "execution_count": null,
   "metadata": {},
   "outputs": [
    {
     "name": "stdout",
     "output_type": "stream",
     "text": [
      "exponentiated values:  [121.51041751893969, 3.3534846525504487, 10.644038817518851]\n",
      "normalized expoentiated values:  [0.8967032974753513, 0.024747513895310744, 0.07854918862933785]\n",
      "sum of norm values:  0.9999999999999999\n"
     ]
    }
   ],
   "source": [
    "layer_outputs = [4.8, 1.21, 2.365]\n",
    "\n",
    "# step 1, \"exponentiate\" the outputs with Euler's number e\n",
    "\n",
    "E = 2.71828182846\n",
    "\n",
    "exp_values = []\n",
    "\n",
    "for output in layer_outputs:\n",
    "    exp_values.append(E ** output)\n",
    "\n",
    "print('exponentiated values: ', exp_values)\n",
    "\n",
    "# this will guarentee that we get non-negative values\n",
    "\n",
    "norm_base = sum(exp_values)\n",
    "\n",
    "norm_values = []\n",
    "\n",
    "for value in exp_values:\n",
    "    norm_values.append(value / norm_base)\n",
    "\n",
    "print('normalized expoentiated values: ', norm_values )\n",
    "\n",
    "print('sum of norm values: ', sum(norm_values))\n",
    "\n"
   ]
  },
  {
   "cell_type": "code",
   "execution_count": null,
   "metadata": {},
   "outputs": [
    {
     "name": "stdout",
     "output_type": "stream",
     "text": [
      "[0.8967033  0.02474751 0.07854919]\n",
      "0.9999999999999999\n"
     ]
    }
   ],
   "source": [
    "# in numpy\n",
    "\n",
    "import numpy as np\n",
    "\n",
    "layer_outputs = [4.8, 1.21, 2.365]\n",
    "\n",
    "exp_values = np.exp(layer_outputs)\n",
    "\n",
    "norm_values = exp_values / np.sum(exp_values)\n",
    "\n",
    "print(norm_values)\n",
    "\n",
    "print(np.sum(norm_values))"
   ]
  },
  {
   "cell_type": "code",
   "execution_count": null,
   "metadata": {},
   "outputs": [
    {
     "ename": "AxisError",
     "evalue": "axis 1 is out of bounds for array of dimension 1",
     "output_type": "error",
     "traceback": [
      "\u001b[0;31m---------------------------------------------------------------------------\u001b[0m",
      "\u001b[0;31mAxisError\u001b[0m                                 Traceback (most recent call last)",
      "Cell \u001b[0;32mIn[30], line 7\u001b[0m\n\u001b[1;32m      3\u001b[0m layer_outputs \u001b[38;5;241m=\u001b[39m [\u001b[38;5;241m4.8\u001b[39m, \u001b[38;5;241m1.21\u001b[39m, \u001b[38;5;241m2.365\u001b[39m]\n\u001b[1;32m      5\u001b[0m exp_values \u001b[38;5;241m=\u001b[39m np\u001b[38;5;241m.\u001b[39mexp(inputs)\n\u001b[0;32m----> 7\u001b[0m probabilities \u001b[38;5;241m=\u001b[39m exp_values \u001b[38;5;241m/\u001b[39m \u001b[43mnp\u001b[49m\u001b[38;5;241;43m.\u001b[39;49m\u001b[43msum\u001b[49m\u001b[43m(\u001b[49m\u001b[43mexp_values\u001b[49m\u001b[43m,\u001b[49m\u001b[43m \u001b[49m\u001b[43maxis\u001b[49m\u001b[38;5;241;43m=\u001b[39;49m\u001b[38;5;241;43m1\u001b[39;49m\u001b[43m,\u001b[49m\u001b[43m \u001b[49m\u001b[43mkeepdims\u001b[49m\u001b[38;5;241;43m=\u001b[39;49m\u001b[38;5;28;43;01mTrue\u001b[39;49;00m\u001b[43m)\u001b[49m\n\u001b[1;32m      9\u001b[0m \u001b[38;5;28mprint\u001b[39m(probabilities)\n",
      "File \u001b[0;32m/opt/homebrew/anaconda3/envs/aql/lib/python3.12/site-packages/numpy/_core/fromnumeric.py:2485\u001b[0m, in \u001b[0;36msum\u001b[0;34m(a, axis, dtype, out, keepdims, initial, where)\u001b[0m\n\u001b[1;32m   2482\u001b[0m         \u001b[38;5;28;01mreturn\u001b[39;00m out\n\u001b[1;32m   2483\u001b[0m     \u001b[38;5;28;01mreturn\u001b[39;00m res\n\u001b[0;32m-> 2485\u001b[0m \u001b[38;5;28;01mreturn\u001b[39;00m \u001b[43m_wrapreduction\u001b[49m\u001b[43m(\u001b[49m\n\u001b[1;32m   2486\u001b[0m \u001b[43m    \u001b[49m\u001b[43ma\u001b[49m\u001b[43m,\u001b[49m\u001b[43m \u001b[49m\u001b[43mnp\u001b[49m\u001b[38;5;241;43m.\u001b[39;49m\u001b[43madd\u001b[49m\u001b[43m,\u001b[49m\u001b[43m \u001b[49m\u001b[38;5;124;43m'\u001b[39;49m\u001b[38;5;124;43msum\u001b[39;49m\u001b[38;5;124;43m'\u001b[39;49m\u001b[43m,\u001b[49m\u001b[43m \u001b[49m\u001b[43maxis\u001b[49m\u001b[43m,\u001b[49m\u001b[43m \u001b[49m\u001b[43mdtype\u001b[49m\u001b[43m,\u001b[49m\u001b[43m \u001b[49m\u001b[43mout\u001b[49m\u001b[43m,\u001b[49m\n\u001b[1;32m   2487\u001b[0m \u001b[43m    \u001b[49m\u001b[43mkeepdims\u001b[49m\u001b[38;5;241;43m=\u001b[39;49m\u001b[43mkeepdims\u001b[49m\u001b[43m,\u001b[49m\u001b[43m \u001b[49m\u001b[43minitial\u001b[49m\u001b[38;5;241;43m=\u001b[39;49m\u001b[43minitial\u001b[49m\u001b[43m,\u001b[49m\u001b[43m \u001b[49m\u001b[43mwhere\u001b[49m\u001b[38;5;241;43m=\u001b[39;49m\u001b[43mwhere\u001b[49m\n\u001b[1;32m   2488\u001b[0m \u001b[43m\u001b[49m\u001b[43m)\u001b[49m\n",
      "File \u001b[0;32m/opt/homebrew/anaconda3/envs/aql/lib/python3.12/site-packages/numpy/_core/fromnumeric.py:86\u001b[0m, in \u001b[0;36m_wrapreduction\u001b[0;34m(obj, ufunc, method, axis, dtype, out, **kwargs)\u001b[0m\n\u001b[1;32m     83\u001b[0m         \u001b[38;5;28;01melse\u001b[39;00m:\n\u001b[1;32m     84\u001b[0m             \u001b[38;5;28;01mreturn\u001b[39;00m reduction(axis\u001b[38;5;241m=\u001b[39maxis, out\u001b[38;5;241m=\u001b[39mout, \u001b[38;5;241m*\u001b[39m\u001b[38;5;241m*\u001b[39mpasskwargs)\n\u001b[0;32m---> 86\u001b[0m \u001b[38;5;28;01mreturn\u001b[39;00m \u001b[43mufunc\u001b[49m\u001b[38;5;241;43m.\u001b[39;49m\u001b[43mreduce\u001b[49m\u001b[43m(\u001b[49m\u001b[43mobj\u001b[49m\u001b[43m,\u001b[49m\u001b[43m \u001b[49m\u001b[43maxis\u001b[49m\u001b[43m,\u001b[49m\u001b[43m \u001b[49m\u001b[43mdtype\u001b[49m\u001b[43m,\u001b[49m\u001b[43m \u001b[49m\u001b[43mout\u001b[49m\u001b[43m,\u001b[49m\u001b[43m \u001b[49m\u001b[38;5;241;43m*\u001b[39;49m\u001b[38;5;241;43m*\u001b[39;49m\u001b[43mpasskwargs\u001b[49m\u001b[43m)\u001b[49m\n",
      "\u001b[0;31mAxisError\u001b[0m: axis 1 is out of bounds for array of dimension 1"
     ]
    }
   ],
   "source": [
    "# for training in batches\n",
    "\n",
    "layer_outputs = [4.8, 1.21, 2.365]\n",
    "\n",
    "exp_values = np.exp(inputs)\n",
    "\n",
    "probabilities = exp_values / np.sum(exp_values, axis=1, keepdims=True)\n",
    "\n",
    "print(probabilities)"
   ]
  },
  {
   "cell_type": "code",
   "execution_count": null,
   "metadata": {},
   "outputs": [
    {
     "name": "stdout",
     "output_type": "stream",
     "text": [
      "Sum without axis\n",
      "18.172\n",
      "This will be identical to the above since default is None:\n",
      "18.172\n"
     ]
    }
   ],
   "source": [
    "import numpy as np\n",
    "\n",
    "layer_outputs = np.array(\n",
    "    [\n",
    "        [4.8, 1.21, 2.385], \n",
    "        [8.9, -1.81, 0.2], \n",
    "        [1.41, 1.051, 0.026]\n",
    "    ]\n",
    ")  \n",
    "print('Sum without axis')\n",
    "print(np.sum(layer_outputs)) \n",
    "print('This will be identical to the above since default is None:')\n",
    "print(np.sum(layer_outputs, axis=None)) # sums everything"
   ]
  },
  {
   "cell_type": "code",
   "execution_count": null,
   "metadata": {},
   "outputs": [
    {
     "name": "stdout",
     "output_type": "stream",
     "text": [
      "[15.11   0.451  2.611]\n"
     ]
    }
   ],
   "source": [
    "print(np.sum(layer_outputs, axis=0)) # sums columns"
   ]
  },
  {
   "cell_type": "code",
   "execution_count": null,
   "metadata": {},
   "outputs": [
    {
     "data": {
      "text/plain": [
       "(3, 3)"
      ]
     },
     "execution_count": 33,
     "metadata": {},
     "output_type": "execute_result"
    }
   ],
   "source": [
    "layer_outputs.shape"
   ]
  },
  {
   "cell_type": "code",
   "execution_count": null,
   "metadata": {},
   "outputs": [
    {
     "name": "stdout",
     "output_type": "stream",
     "text": [
      "[8.395 7.29  2.487]\n"
     ]
    }
   ],
   "source": [
    "print(np.sum(layer_outputs, axis=1))"
   ]
  },
  {
   "cell_type": "code",
   "execution_count": null,
   "metadata": {},
   "outputs": [
    {
     "name": "stdout",
     "output_type": "stream",
     "text": [
      "[[8.395]\n",
      " [7.29 ]\n",
      " [2.487]]\n"
     ]
    }
   ],
   "source": [
    "print(np.sum(layer_outputs, axis=1, keepdims=True))"
   ]
  },
  {
   "cell_type": "code",
   "execution_count": null,
   "metadata": {},
   "outputs": [],
   "source": [
    "class Activation_Softmax:\n",
    "    def forward(self, inputs):\n",
    "\n",
    "        # get unnormalized probabilities\n",
    "        exp_values = np.exp(inputs - np.max(inputs, axis=1, keepdims=True))\n",
    "\n",
    "        # normalize them for each sample\n",
    "        probabilities = exp_values / np.sum(exp_values, axis=1, keepdims=True)\n",
    "\n",
    "        self.output = probabilities\n",
    "\n",
    "        "
   ]
  },
  {
   "cell_type": "code",
   "execution_count": null,
   "metadata": {},
   "outputs": [
    {
     "name": "stdout",
     "output_type": "stream",
     "text": [
      "[[0.09003057 0.24472847 0.66524096]]\n"
     ]
    }
   ],
   "source": [
    "softmax = Activation_Softmax()\n",
    "\n",
    "softmax.forward([[1, 2, 3]])\n",
    "\n",
    "print(softmax.output)"
   ]
  },
  {
   "cell_type": "code",
   "execution_count": null,
   "metadata": {},
   "outputs": [
    {
     "data": {
      "text/plain": [
       "np.float64(0.9999999999999999)"
      ]
     },
     "execution_count": 38,
     "metadata": {},
     "output_type": "execute_result"
    }
   ],
   "source": [
    "np.sum(softmax.output)"
   ]
  },
  {
   "cell_type": "code",
   "execution_count": null,
   "metadata": {},
   "outputs": [
    {
     "name": "stdout",
     "output_type": "stream",
     "text": [
      "[[0.33333334 0.33333334 0.33333334]\n",
      " [0.3333408  0.3333233  0.33333588]\n",
      " [0.33335164 0.3333086  0.33333978]\n",
      " [0.3333716  0.3332805  0.33334783]\n",
      " [0.33336678 0.33328825 0.333345  ]]\n"
     ]
    }
   ],
   "source": [
    "# putting it all together\n",
    "X, y = spiral_data(samples=100, classes=3)\n",
    "\n",
    "dense1 = TinyVoice_Layer_Dense(2, 3)\n",
    "\n",
    "activation1 = Activation_ReLU()\n",
    "\n",
    "dense2 = TinyVoice_Layer_Dense(3, 3)\n",
    "\n",
    "activation2 = Activation_Softmax()\n",
    "\n",
    "\n",
    "dense1.forward(X)\n",
    "\n",
    "activation1.forward(dense1.output)\n",
    "\n",
    "dense2.forward(activation1.output)\n",
    "\n",
    "activation2.forward(dense2.output)\n",
    "\n",
    "print(activation2.output[:5])\n"
   ]
  },
  {
   "cell_type": "code",
   "execution_count": null,
   "metadata": {},
   "outputs": [
    {
     "name": "stdout",
     "output_type": "stream",
     "text": [
      "[[1.        ]\n",
      " [1.        ]\n",
      " [1.        ]\n",
      " [0.9999999 ]\n",
      " [1.        ]\n",
      " [1.        ]\n",
      " [1.        ]\n",
      " [1.        ]\n",
      " [1.        ]\n",
      " [1.        ]\n",
      " [1.        ]\n",
      " [1.        ]\n",
      " [1.        ]\n",
      " [1.        ]\n",
      " [1.        ]\n",
      " [1.        ]\n",
      " [1.        ]\n",
      " [1.        ]\n",
      " [1.        ]\n",
      " [1.        ]\n",
      " [1.        ]\n",
      " [1.        ]\n",
      " [1.        ]\n",
      " [0.99999994]\n",
      " [0.99999994]\n",
      " [1.        ]\n",
      " [1.        ]\n",
      " [1.        ]\n",
      " [1.        ]\n",
      " [0.9999999 ]\n",
      " [1.        ]\n",
      " [1.        ]\n",
      " [1.        ]\n",
      " [1.0000001 ]\n",
      " [1.        ]\n",
      " [1.        ]\n",
      " [1.        ]\n",
      " [1.        ]\n",
      " [1.        ]\n",
      " [1.        ]\n",
      " [1.        ]\n",
      " [1.        ]\n",
      " [1.        ]\n",
      " [1.        ]\n",
      " [1.        ]\n",
      " [1.        ]\n",
      " [1.        ]\n",
      " [1.        ]\n",
      " [1.        ]\n",
      " [1.        ]\n",
      " [1.        ]\n",
      " [1.        ]\n",
      " [1.        ]\n",
      " [1.        ]\n",
      " [1.        ]\n",
      " [1.        ]\n",
      " [1.        ]\n",
      " [1.0000001 ]\n",
      " [1.        ]\n",
      " [1.        ]\n",
      " [1.        ]\n",
      " [1.        ]\n",
      " [1.        ]\n",
      " [1.        ]\n",
      " [1.        ]\n",
      " [1.        ]\n",
      " [1.        ]\n",
      " [1.        ]\n",
      " [1.        ]\n",
      " [1.        ]\n",
      " [1.        ]\n",
      " [1.0000001 ]\n",
      " [1.        ]\n",
      " [1.        ]\n",
      " [1.0000001 ]\n",
      " [1.        ]\n",
      " [1.        ]\n",
      " [1.        ]\n",
      " [0.99999994]\n",
      " [1.        ]\n",
      " [0.99999994]\n",
      " [1.        ]\n",
      " [1.        ]\n",
      " [1.        ]\n",
      " [1.        ]\n",
      " [1.        ]\n",
      " [1.        ]\n",
      " [1.        ]\n",
      " [1.        ]\n",
      " [1.        ]\n",
      " [1.        ]\n",
      " [1.        ]\n",
      " [1.        ]\n",
      " [1.        ]\n",
      " [1.        ]\n",
      " [1.        ]\n",
      " [1.        ]\n",
      " [1.        ]\n",
      " [1.        ]\n",
      " [1.        ]\n",
      " [1.        ]\n",
      " [1.        ]\n",
      " [1.        ]\n",
      " [1.        ]\n",
      " [1.        ]\n",
      " [1.        ]\n",
      " [1.        ]\n",
      " [1.        ]\n",
      " [1.        ]\n",
      " [1.        ]\n",
      " [1.        ]\n",
      " [1.        ]\n",
      " [1.        ]\n",
      " [1.        ]\n",
      " [1.        ]\n",
      " [1.        ]\n",
      " [1.        ]\n",
      " [1.        ]\n",
      " [1.        ]\n",
      " [1.        ]\n",
      " [1.        ]\n",
      " [1.        ]\n",
      " [1.        ]\n",
      " [1.        ]\n",
      " [1.        ]\n",
      " [1.        ]\n",
      " [1.        ]\n",
      " [1.        ]\n",
      " [1.        ]\n",
      " [0.9999999 ]\n",
      " [1.        ]\n",
      " [1.        ]\n",
      " [1.        ]\n",
      " [0.99999994]\n",
      " [1.        ]\n",
      " [1.        ]\n",
      " [1.        ]\n",
      " [1.        ]\n",
      " [1.        ]\n",
      " [1.        ]\n",
      " [1.        ]\n",
      " [1.        ]\n",
      " [1.        ]\n",
      " [1.        ]\n",
      " [1.        ]\n",
      " [1.        ]\n",
      " [1.        ]\n",
      " [1.        ]\n",
      " [1.        ]\n",
      " [0.99999994]\n",
      " [1.        ]\n",
      " [1.        ]\n",
      " [1.        ]\n",
      " [1.        ]\n",
      " [1.        ]\n",
      " [1.        ]\n",
      " [1.        ]\n",
      " [1.        ]\n",
      " [1.        ]\n",
      " [1.        ]\n",
      " [1.        ]\n",
      " [1.        ]\n",
      " [1.        ]\n",
      " [1.        ]\n",
      " [1.        ]\n",
      " [1.        ]\n",
      " [1.        ]\n",
      " [1.        ]\n",
      " [1.        ]\n",
      " [1.        ]\n",
      " [1.0000001 ]\n",
      " [1.        ]\n",
      " [1.        ]\n",
      " [1.        ]\n",
      " [1.        ]\n",
      " [1.        ]\n",
      " [1.        ]\n",
      " [1.        ]\n",
      " [1.        ]\n",
      " [1.        ]\n",
      " [1.        ]\n",
      " [1.        ]\n",
      " [1.        ]\n",
      " [1.        ]\n",
      " [1.        ]\n",
      " [1.        ]\n",
      " [1.        ]\n",
      " [1.        ]\n",
      " [0.99999994]\n",
      " [1.        ]\n",
      " [1.        ]\n",
      " [1.        ]\n",
      " [1.        ]\n",
      " [1.        ]\n",
      " [1.        ]\n",
      " [1.0000001 ]\n",
      " [1.        ]\n",
      " [0.99999994]\n",
      " [1.        ]\n",
      " [1.        ]\n",
      " [1.        ]\n",
      " [0.99999994]\n",
      " [1.        ]\n",
      " [0.99999994]\n",
      " [1.        ]\n",
      " [1.        ]\n",
      " [1.        ]\n",
      " [1.        ]\n",
      " [1.        ]\n",
      " [1.        ]\n",
      " [1.        ]\n",
      " [1.        ]\n",
      " [1.        ]\n",
      " [0.99999994]\n",
      " [1.        ]\n",
      " [1.        ]\n",
      " [1.        ]\n",
      " [1.        ]\n",
      " [1.        ]\n",
      " [1.        ]\n",
      " [1.        ]\n",
      " [1.        ]\n",
      " [1.        ]\n",
      " [1.        ]\n",
      " [1.        ]\n",
      " [1.        ]\n",
      " [1.        ]\n",
      " [1.        ]\n",
      " [1.        ]\n",
      " [1.        ]\n",
      " [1.        ]\n",
      " [1.        ]\n",
      " [1.        ]\n",
      " [1.        ]\n",
      " [1.        ]\n",
      " [1.        ]\n",
      " [1.        ]\n",
      " [1.        ]\n",
      " [1.        ]\n",
      " [1.        ]\n",
      " [1.        ]\n",
      " [0.99999994]\n",
      " [1.        ]\n",
      " [0.99999994]\n",
      " [1.        ]\n",
      " [1.        ]\n",
      " [1.        ]\n",
      " [1.        ]\n",
      " [0.99999994]\n",
      " [1.        ]\n",
      " [1.        ]\n",
      " [1.        ]\n",
      " [1.        ]\n",
      " [1.        ]\n",
      " [1.        ]\n",
      " [1.        ]\n",
      " [1.        ]\n",
      " [0.99999994]\n",
      " [0.99999994]\n",
      " [1.        ]\n",
      " [1.        ]\n",
      " [1.        ]\n",
      " [0.99999994]\n",
      " [1.        ]\n",
      " [1.        ]\n",
      " [1.        ]\n",
      " [1.        ]\n",
      " [0.9999999 ]\n",
      " [1.        ]\n",
      " [1.        ]\n",
      " [1.        ]\n",
      " [1.        ]\n",
      " [0.99999994]\n",
      " [0.9999999 ]\n",
      " [1.        ]\n",
      " [1.        ]\n",
      " [1.        ]\n",
      " [1.        ]\n",
      " [1.        ]\n",
      " [1.        ]\n",
      " [1.        ]\n",
      " [1.        ]\n",
      " [0.99999994]\n",
      " [1.        ]\n",
      " [1.        ]\n",
      " [1.        ]\n",
      " [0.99999994]\n",
      " [1.        ]\n",
      " [1.        ]\n",
      " [1.        ]\n",
      " [1.        ]\n",
      " [1.        ]\n",
      " [1.        ]\n",
      " [1.        ]\n",
      " [1.        ]\n",
      " [1.        ]\n",
      " [1.        ]\n",
      " [1.        ]\n",
      " [1.        ]\n",
      " [1.        ]]\n"
     ]
    }
   ],
   "source": [
    "print(np.sum(activation2.output, axis=1, keepdims=True))"
   ]
  },
  {
   "cell_type": "markdown",
   "metadata": {},
   "source": [
    "# Chapter 5: Calculating Network Error with Loss"
   ]
  },
  {
   "cell_type": "markdown",
   "metadata": {},
   "source": [
    "## Loss Function \n",
    "\n",
    "- Measurement of how much error the model has. Ideally this is 0!\n",
    "\n",
    "- We want to increase correct confident and decrease misplaced confidence"
   ]
  },
  {
   "cell_type": "markdown",
   "metadata": {},
   "source": [
    "# Categorical Cross-Entropy Loss\n",
    "\n",
    "- Calculates loss by comparing \"ground-truth\" probability (y or targets) and some predicted distribution (y-hat or \"predictions\")\n",
    "\n",
    "e.g. predicted = [0.7, 0.2, 0.1] and actual is [1, 0, 0]\n",
    "\n",
    "- One-hot encoded vector - one value is \"hot\" (on) and the rest are \"cold\" (off\")\n",
    "\n",
    "- Categorical Cross-Entropy Loss is a special case of cross-entropy calculations\n"
   ]
  },
  {
   "cell_type": "code",
   "execution_count": null,
   "metadata": {},
   "outputs": [
    {
     "name": "stdout",
     "output_type": "stream",
     "text": [
      "[0.35667494        inf        inf]\n"
     ]
    },
    {
     "name": "stderr",
     "output_type": "stream",
     "text": [
      "/var/folders/b1/c854wtzj2s12cmyl08yzghym0000gn/T/ipykernel_61280/184557663.py:5: RuntimeWarning: divide by zero encountered in log\n",
      "  loss = -(np.log(np.array(softmax_output)*np.array(target_output)))\n"
     ]
    }
   ],
   "source": [
    "softmax_output = [0.7, 0.1, 0.2]\n",
    "\n",
    "target_output = [1, 0, 0]\n",
    "\n",
    "loss = -(np.log(np.array(softmax_output)*np.array(target_output)))\n",
    "\n",
    "print(loss)"
   ]
  },
  {
   "cell_type": "code",
   "execution_count": null,
   "metadata": {},
   "outputs": [
    {
     "name": "stdout",
     "output_type": "stream",
     "text": [
      "0.35667494393873245\n"
     ]
    }
   ],
   "source": [
    "loss = -np.log(softmax_output[0])\n",
    "print(loss)"
   ]
  },
  {
   "cell_type": "markdown",
   "metadata": {},
   "source": [
    "# Log\n",
    "\n",
    "The logarithm is defined as the solution for the x-term in the equation a ^^ x = b\n",
    "\n",
    "By convention we understand **log** to be the natural logarithm"
   ]
  },
  {
   "cell_type": "markdown",
   "metadata": {},
   "source": []
  },
  {
   "cell_type": "code",
   "execution_count": null,
   "metadata": {},
   "outputs": [
    {
     "name": "stdout",
     "output_type": "stream",
     "text": [
      "1.6486586255873816\n"
     ]
    }
   ],
   "source": [
    "b = 5.2\n",
    "ln = np.log(b)\n",
    "print(ln)"
   ]
  },
  {
   "cell_type": "code",
   "execution_count": null,
   "metadata": {},
   "outputs": [
    {
     "name": "stdout",
     "output_type": "stream",
     "text": [
      "5.199999999999999\n"
     ]
    }
   ],
   "source": [
    "import math\n",
    "\n",
    "print(math.e ** ln)"
   ]
  },
  {
   "cell_type": "code",
   "execution_count": null,
   "metadata": {},
   "outputs": [
    {
     "name": "stdout",
     "output_type": "stream",
     "text": [
      "0.38506088005216804\n"
     ]
    }
   ],
   "source": [
    "softmax_outputs = [\n",
    "    [0.7, 0.1, 0.2],\n",
    "    [0.1, 0.5, 0.4],\n",
    "    [0.02, 0.9, 0.08]\n",
    "]\n",
    "\n",
    "class_targets = [0, 1, 1]\n",
    "\n",
    "neg_log = []\n",
    "for smo, ct in zip(softmax_outputs, class_targets):\n",
    "    neg_log.append(-np.log(smo[ct]))\n",
    "\n",
    "average_loss = np.mean(neg_log)\n",
    "print(average_loss)"
   ]
  },
  {
   "cell_type": "code",
   "execution_count": null,
   "metadata": {},
   "outputs": [
    {
     "name": "stdout",
     "output_type": "stream",
     "text": [
      "0.38506088005216804\n"
     ]
    }
   ],
   "source": [
    "import numpy as np\n",
    "\n",
    "softmax_outputs = np.array([\n",
    "    [0.7, 0.1, 0.2],\n",
    "    [0.1, 0.5, 0.4],\n",
    "    [0.02, 0.9, 0.08]\n",
    "])\n",
    "\n",
    "class_targets = np.array([\n",
    "    [1, 0, 0],\n",
    "    [0, 1, 0],\n",
    "    [0, 1, 0]\n",
    "])\n",
    "\n",
    "if len(class_targets.shape) == 1:\n",
    "    correct_confidences = softmax_outputs[range(len(softmax_output)), class_targets]\n",
    "\n",
    "elif len(class_targets.shape) == 2:\n",
    "    correct_confidences = np.sum(softmax_outputs * class_targets, axis=1)\n",
    "\n",
    "\n",
    "neg_loss = -np.log(correct_confidences)\n",
    "\n",
    "average_loss = np.mean(neg_log)\n",
    "\n",
    "print(average_loss)\n",
    "\n"
   ]
  },
  {
   "cell_type": "code",
   "execution_count": null,
   "metadata": {},
   "outputs": [
    {
     "data": {
      "text/plain": [
       "array([0.7, 0.1, 0.2])"
      ]
     },
     "execution_count": 47,
     "metadata": {},
     "output_type": "execute_result"
    }
   ],
   "source": [
    "# for dealing with -log(0), we will clip our predicitons between 1e-7 and 1 - 1e-7\n",
    "\n",
    "y_pred_clipped = np.clip(softmax_output, 1e-7, 1 - 1e-7)\n",
    "\n",
    "y_pred_clipped"
   ]
  },
  {
   "cell_type": "markdown",
   "metadata": {},
   "source": [
    "# The Categorical Cross-Entropy Loss Class"
   ]
  },
  {
   "cell_type": "code",
   "execution_count": null,
   "metadata": {},
   "outputs": [],
   "source": [
    "# Common loss class\n",
    "\n",
    "class Loss:\n",
    "    def calculate(self, output, y):\n",
    "        sample_losses = self.forward(output, y)\n",
    "\n",
    "        data_loss = np.mean(sample_losses)\n",
    "\n",
    "        return data_loss"
   ]
  },
  {
   "cell_type": "code",
   "execution_count": null,
   "metadata": {},
   "outputs": [],
   "source": [
    "# Let's subclass Loss and create a Categorical Cross Entropy Class\n",
    "\n",
    "\n",
    "class Loss_CategoricalCrossEntropy(Loss):\n",
    "\n",
    "    def forward(self, y_pred, y_true):\n",
    "\n",
    "        # get number of samples in a batch\n",
    "        samples = len(y_pred)\n",
    "\n",
    "        # clip our data to prevent explording to infitnity\n",
    "        y_pred_clipped = np.clip(y_pred, 1e-7, 1 - 1e-7)\n",
    "\n",
    "        # get probabilities\n",
    "\n",
    "        if len(y_true.shape) == 1:\n",
    "            correct_confidences = y_pred_clipped[\n",
    "                range(samples),\n",
    "                y_true\n",
    "            ]\n",
    "\n",
    "        elif len(y_true.shape) == 2:\n",
    "            correct_confidences = np.sum(\n",
    "                y_pred_clipped * y_true, axis=1\n",
    "            )\n",
    "        \n",
    "        neg_loss = -np.log(correct_confidences)\n",
    "        return neg_loss\n",
    "\n"
   ]
  },
  {
   "cell_type": "code",
   "execution_count": null,
   "metadata": {},
   "outputs": [
    {
     "name": "stdout",
     "output_type": "stream",
     "text": [
      "0.38506088005216804\n"
     ]
    }
   ],
   "source": [
    "softmax_outputs = np.array([\n",
    "    [0.7, 0.1, 0.2],\n",
    "    [0.1, 0.5, 0.4],\n",
    "    [0.02, 0.9, 0.08]\n",
    "])\n",
    "\n",
    "class_targets = np.array([\n",
    "    [1, 0, 0],\n",
    "    [0, 1, 0],\n",
    "    [0, 1, 0]\n",
    "])\n",
    "\n",
    "\n",
    "loss_function = Loss_CategoricalCrossEntropy()\n",
    "\n",
    "loss = loss_function.calculate(softmax_outputs, class_targets)\n",
    "\n",
    "print(loss)"
   ]
  },
  {
   "cell_type": "code",
   "execution_count": null,
   "metadata": {},
   "outputs": [
    {
     "name": "stdout",
     "output_type": "stream",
     "text": [
      "loss:  1.0983484\n",
      "[0 1 1 1 1 1 1 1 1 1 1 1 1 1 1 1 1 1 1 1 1 0 1 0 0 0 0 0 0 1 0 0 0 0 0 0 0\n",
      " 0 0 0 0 0 0 0 0 0 1 1 1 0 0 1 1 1 0 1 1 1 1 1 1 1 1 1 1 1 1 1 1 1 1 1 1 1\n",
      " 1 0 1 1 1 1 1 1 1 1 1 1 1 0 0 0 0 0 0 0 0 0 0 0 0 0 0 0 0 0 0 0 0 0 0 0 0\n",
      " 0 0 0 1 1 1 1 1 1 1 1 1 1 1 1 1 1 1 1 1 1 1 1 1 1 1 1 1 1 1 0 1 1 1 0 1 0\n",
      " 1 1 0 0 0 1 0 0 0 0 0 0 0 0 0 0 0 0 0 0 0 0 1 0 1 0 1 1 1 1 1 1 1 1 1 1 1\n",
      " 1 1 1 1 1 1 1 1 1 1 1 1 1 1 1 0 1 1 1 1 1 1 1 1 0 1 0 0 0 0 0 0 0 0 0 1 0\n",
      " 0 0 0 0 0 0 0 0 0 0 1 0 0 0 0 1 1 1 0 1 1 1 0 1 0 1 1 1 1 1 1 1 1 1 1 1 1\n",
      " 1 1 1 1 1 1 1 1 1 1 0 1 1 0 0 1 0 0 1 0 0 0 0 0 0 0 0 0 0 0 0 0 0 0 0 0 0\n",
      " 0 0 0 1]\n",
      "accuracy:  0.3433333333333333\n"
     ]
    }
   ],
   "source": [
    "# combining everything\n",
    "\n",
    "X, y = spiral_data(samples=100, classes=3)\n",
    "\n",
    "dense1 = TinyVoice_Layer_Dense(2, 3)\n",
    "\n",
    "activation1 = Activation_ReLU()\n",
    "\n",
    "dense2 = TinyVoice_Layer_Dense(3, 3)\n",
    "\n",
    "activation2 = Activation_Softmax()\n",
    "\n",
    "loss_function = Loss_CategoricalCrossEntropy()\n",
    "\n",
    "## forward pass of our network\n",
    "\n",
    "dense1.forward(X)\n",
    "\n",
    "activation1.forward(dense1.output)\n",
    "\n",
    "dense2.forward(activation1.output)\n",
    "\n",
    "activation2.forward(dense2.output)\n",
    "\n",
    "loss = loss_function.calculate(activation2.output, y)\n",
    "\n",
    "print('loss: ', loss)\n",
    "\n",
    "predictions = np.argmax(activation2.output, axis=1)\n",
    "\n",
    "print(predictions)\n",
    "\n",
    "if len(y.shape) == 2:\n",
    "    class_targets = np.argmax(y, axis=1)\n",
    "\n",
    "accuracy = np.mean(predictions==y)\n",
    "\n",
    "print('accuracy: ', accuracy)\n",
    "\n"
   ]
  },
  {
   "cell_type": "markdown",
   "metadata": {},
   "source": [
    "# Accuracy Calculation"
   ]
  },
  {
   "cell_type": "markdown",
   "metadata": {},
   "source": [
    "Accuracy - descibes how often the largest confidence is the correct class in terms of a fraction"
   ]
  },
  {
   "cell_type": "code",
   "execution_count": null,
   "metadata": {},
   "outputs": [
    {
     "name": "stdout",
     "output_type": "stream",
     "text": [
      "[0 0 1]\n",
      "accuracy:  0.6666666666666666\n"
     ]
    }
   ],
   "source": [
    "import numpy as np\n",
    "\n",
    "softmax_outputs = np.array([\n",
    "    [0.7, 0.2, 0.1],\n",
    "    [0.5, 0.1, 0.4],\n",
    "    [0.02, 0.9, 0.08]\n",
    "    ])\n",
    "\n",
    "class_targets = np.array([0, 1, 1])\n",
    "\n",
    "predictions = np.argmax(softmax_outputs, axis=1)\n",
    "\n",
    "print(predictions)\n",
    "\n",
    "if len(class_targets.shape) == 2:\n",
    "    class_targets = np.argmax(class_targets, axis=1)\n",
    "\n",
    "accuracy = np.mean(predictions==class_targets)\n",
    "\n",
    "print('accuracy: ', accuracy)"
   ]
  },
  {
   "cell_type": "markdown",
   "metadata": {},
   "source": [
    "# Chapter 6: Introducing Optimizations"
   ]
  },
  {
   "cell_type": "code",
   "execution_count": 75,
   "metadata": {},
   "outputs": [
    {
     "data": {
      "image/png": "[encoded data removed]",
      "text/plain": [
       "<Figure size 640x480 with 1 Axes>"
      ]
     },
     "metadata": {},
     "output_type": "display_data"
    }
   ],
   "source": [
    "# randomly update weights and see if this improves loss\n",
    "\n",
    "import matplotlib.pyplot as plt\n",
    "\n",
    "import nnfs\n",
    "from nnfs.datasets import vertical_data\n",
    "\n",
    "nnfs.init()\n",
    "\n",
    "X, y = vertical_data(samples=100, classes=3)\n",
    "\n",
    "plt.scatter(X[:,0], X[:, 1], c=y, s=40, cmap='brg')\n",
    "\n",
    "plt.show()"
   ]
  },
  {
   "cell_type": "code",
   "execution_count": 81,
   "metadata": {},
   "outputs": [
    {
     "name": "stdout",
     "output_type": "stream",
     "text": [
      "new set of weights found, iteration:  0 loss : 1.0997409 acc:  0.3333333333333333\n",
      "new set of weights found, iteration:  2 loss : 1.0986936 acc:  0.3333333333333333\n",
      "new set of weights found, iteration:  8 loss : 1.0986633 acc:  0.3333333333333333\n",
      "new set of weights found, iteration:  11 loss : 1.0983065 acc:  0.3333333333333333\n",
      "new set of weights found, iteration:  25 loss : 1.0980723 acc:  0.3333333333333333\n",
      "new set of weights found, iteration:  69 loss : 1.0978448 acc:  0.49333333333333335\n",
      "new set of weights found, iteration:  79 loss : 1.0974694 acc:  0.3333333333333333\n",
      "new set of weights found, iteration:  112 loss : 1.0971763 acc:  0.3333333333333333\n",
      "new set of weights found, iteration:  482 loss : 1.0969894 acc:  0.3333333333333333\n",
      "new set of weights found, iteration:  701 loss : 1.0968213 acc:  0.3333333333333333\n",
      "new set of weights found, iteration:  4241 loss : 1.0963358 acc:  0.3333333333333333\n"
     ]
    }
   ],
   "source": [
    "# run this dataset through our neural network\n",
    "\n",
    "X, y = vertical_data(samples=100, classes=3)\n",
    "\n",
    "dense1 = TinyVoice_Layer_Dense(2, 3)\n",
    "activation1 = Activation_ReLU()\n",
    "dense2 = TinyVoice_Layer_Dense(3, 3)\n",
    "activation2 = Activation_Softmax()\n",
    "\n",
    "loss_function = Loss_CategoricalCrossEntropy()\n",
    "\n",
    "lowest_loss = 999999999\n",
    "\n",
    "best_dense1_weights = dense1.weights.copy()\n",
    "best_dense1_biases = dense1.biases.copy()\n",
    "best_dense2_weights = dense2.weights.copy()\n",
    "best_dense2_biases = dense2.biases.copy()\n",
    "\n",
    "\n",
    "for iteration in range(10000):\n",
    "\n",
    "    dense1.weights = 0.05 * np.random.randn(2, 3)\n",
    "    dense1.biases = 0.05 * np.random.randn(1, 3)\n",
    "    dense2.weights = 0.05 * np.random.randn(3, 3)\n",
    "    dense2.biases = 0.05 * np.random.randn(1, 3)\n",
    "\n",
    "    dense1.forward(X)\n",
    "    activation1.forward(dense1.output)\n",
    "    dense2.forward(activation1.output)\n",
    "    activation2.forward(dense2.output)\n",
    "\n",
    "\n",
    "    loss = loss_function.calculate(activation2.output, y)\n",
    "\n",
    "    predictions = np.argmax(activation2.output, axis=1)\n",
    "\n",
    "    accuracy = np.mean(predictions==y)\n",
    "\n",
    "\n",
    "    if loss < lowest_loss:\n",
    "        print(\"new set of weights found, iteration: \", iteration, \"loss :\", loss, \"acc: \", accuracy)\n",
    "\n",
    "        best_dense1_weights = dense1.weights.copy()\n",
    "        best_dense1_biases = dense1.biases.copy()\n",
    "        best_dense2_weights = dense2.weights.copy()\n",
    "        best_dense2_biases = dense2.biases.copy()\n",
    "        lowest_loss = loss\n"
   ]
  },
  {
   "cell_type": "code",
   "execution_count": 89,
   "metadata": {},
   "outputs": [
    {
     "name": "stdout",
     "output_type": "stream",
     "text": [
      "new set of weights found, iteration:  0 loss : 1.0980374 acc:  0.3333333333333333\n",
      "new set of weights found, iteration:  16 loss : 1.0977712 acc:  0.37\n",
      "new set of weights found, iteration:  21 loss : 1.0975003 acc:  0.3333333333333333\n",
      "new set of weights found, iteration:  25 loss : 1.0973064 acc:  0.42333333333333334\n",
      "new set of weights found, iteration:  27 loss : 1.0972921 acc:  0.37\n",
      "new set of weights found, iteration:  28 loss : 1.0968709 acc:  0.37\n",
      "new set of weights found, iteration:  30 loss : 1.0968521 acc:  0.3333333333333333\n",
      "new set of weights found, iteration:  31 loss : 1.095586 acc:  0.38666666666666666\n",
      "new set of weights found, iteration:  33 loss : 1.0936847 acc:  0.37333333333333335\n",
      "new set of weights found, iteration:  34 loss : 1.0924785 acc:  0.33666666666666667\n",
      "new set of weights found, iteration:  36 loss : 1.0923812 acc:  0.3566666666666667\n",
      "new set of weights found, iteration:  37 loss : 1.090707 acc:  0.4\n",
      "new set of weights found, iteration:  38 loss : 1.0906476 acc:  0.38666666666666666\n",
      "new set of weights found, iteration:  39 loss : 1.0898654 acc:  0.41\n",
      "new set of weights found, iteration:  47 loss : 1.0891033 acc:  0.38\n",
      "new set of weights found, iteration:  50 loss : 1.0870191 acc:  0.39\n",
      "new set of weights found, iteration:  51 loss : 1.0849402 acc:  0.37333333333333335\n",
      "new set of weights found, iteration:  59 loss : 1.0835804 acc:  0.4066666666666667\n",
      "new set of weights found, iteration:  62 loss : 1.0828545 acc:  0.4066666666666667\n",
      "new set of weights found, iteration:  68 loss : 1.0823833 acc:  0.4\n",
      "new set of weights found, iteration:  74 loss : 1.081657 acc:  0.4066666666666667\n",
      "new set of weights found, iteration:  94 loss : 1.08082 acc:  0.4166666666666667\n",
      "new set of weights found, iteration:  95 loss : 1.0799917 acc:  0.4166666666666667\n",
      "new set of weights found, iteration:  101 loss : 1.0783256 acc:  0.43666666666666665\n",
      "new set of weights found, iteration:  113 loss : 1.0778774 acc:  0.4066666666666667\n",
      "new set of weights found, iteration:  128 loss : 1.0775541 acc:  0.42333333333333334\n",
      "new set of weights found, iteration:  132 loss : 1.07752 acc:  0.43\n",
      "new set of weights found, iteration:  139 loss : 1.0765151 acc:  0.41333333333333333\n",
      "new set of weights found, iteration:  141 loss : 1.0764413 acc:  0.4066666666666667\n",
      "new set of weights found, iteration:  142 loss : 1.0763671 acc:  0.4\n",
      "new set of weights found, iteration:  167 loss : 1.0762764 acc:  0.42333333333333334\n",
      "new set of weights found, iteration:  169 loss : 1.0737504 acc:  0.42\n",
      "new set of weights found, iteration:  173 loss : 1.0737448 acc:  0.4166666666666667\n",
      "new set of weights found, iteration:  175 loss : 1.0719868 acc:  0.4166666666666667\n",
      "new set of weights found, iteration:  184 loss : 1.0711108 acc:  0.42333333333333334\n",
      "new set of weights found, iteration:  190 loss : 1.0706182 acc:  0.43\n",
      "new set of weights found, iteration:  191 loss : 1.0703336 acc:  0.4633333333333333\n",
      "new set of weights found, iteration:  201 loss : 1.0695707 acc:  0.45\n",
      "new set of weights found, iteration:  206 loss : 1.0695275 acc:  0.43\n",
      "new set of weights found, iteration:  208 loss : 1.0684837 acc:  0.42333333333333334\n",
      "new set of weights found, iteration:  209 loss : 1.0680377 acc:  0.43\n",
      "new set of weights found, iteration:  234 loss : 1.0677952 acc:  0.43666666666666665\n",
      "new set of weights found, iteration:  278 loss : 1.0675321 acc:  0.42\n",
      "new set of weights found, iteration:  279 loss : 1.0673367 acc:  0.43333333333333335\n",
      "new set of weights found, iteration:  280 loss : 1.0672905 acc:  0.42333333333333334\n",
      "new set of weights found, iteration:  390 loss : 1.0669161 acc:  0.42\n",
      "new set of weights found, iteration:  401 loss : 1.0662006 acc:  0.42\n",
      "new set of weights found, iteration:  658 loss : 1.066085 acc:  0.43\n",
      "new set of weights found, iteration:  686 loss : 1.0659484 acc:  0.41333333333333333\n",
      "new set of weights found, iteration:  702 loss : 1.0657202 acc:  0.4066666666666667\n",
      "new set of weights found, iteration:  728 loss : 1.0655291 acc:  0.4066666666666667\n",
      "new set of weights found, iteration:  888 loss : 1.0653749 acc:  0.4266666666666667\n",
      "new set of weights found, iteration:  2223 loss : 1.065337 acc:  0.4166666666666667\n",
      "new set of weights found, iteration:  2247 loss : 1.065336 acc:  0.4\n",
      "new set of weights found, iteration:  2370 loss : 1.0652331 acc:  0.43\n",
      "new set of weights found, iteration:  2494 loss : 1.0648273 acc:  0.4066666666666667\n",
      "new set of weights found, iteration:  2503 loss : 1.0646199 acc:  0.4033333333333333\n",
      "new set of weights found, iteration:  2516 loss : 1.0644755 acc:  0.41\n",
      "new set of weights found, iteration:  2638 loss : 1.0642531 acc:  0.4\n",
      "new set of weights found, iteration:  3304 loss : 1.0642496 acc:  0.4166666666666667\n",
      "new set of weights found, iteration:  3313 loss : 1.0641984 acc:  0.43\n",
      "new set of weights found, iteration:  3314 loss : 1.0640595 acc:  0.4166666666666667\n",
      "new set of weights found, iteration:  3328 loss : 1.0639862 acc:  0.42\n",
      "new set of weights found, iteration:  3362 loss : 1.0638506 acc:  0.44333333333333336\n",
      "new set of weights found, iteration:  3408 loss : 1.0638473 acc:  0.42333333333333334\n",
      "new set of weights found, iteration:  3490 loss : 1.0638227 acc:  0.43\n",
      "new set of weights found, iteration:  3505 loss : 1.0636731 acc:  0.42\n",
      "new set of weights found, iteration:  3509 loss : 1.0636698 acc:  0.43\n",
      "new set of weights found, iteration:  3851 loss : 1.0633606 acc:  0.4066666666666667\n",
      "new set of weights found, iteration:  4061 loss : 1.0633394 acc:  0.43333333333333335\n",
      "new set of weights found, iteration:  4110 loss : 1.0632203 acc:  0.43\n",
      "new set of weights found, iteration:  5600 loss : 1.0632192 acc:  0.4066666666666667\n",
      "new set of weights found, iteration:  5634 loss : 1.0631098 acc:  0.4166666666666667\n",
      "new set of weights found, iteration:  5674 loss : 1.0631045 acc:  0.4\n",
      "new set of weights found, iteration:  5706 loss : 1.0629222 acc:  0.4266666666666667\n",
      "new set of weights found, iteration:  6617 loss : 1.0628437 acc:  0.43666666666666665\n",
      "new set of weights found, iteration:  6841 loss : 1.0626621 acc:  0.43666666666666665\n",
      "new set of weights found, iteration:  7508 loss : 1.0625806 acc:  0.4266666666666667\n",
      "new set of weights found, iteration:  7517 loss : 1.0625508 acc:  0.43\n",
      "new set of weights found, iteration:  7591 loss : 1.0625267 acc:  0.4166666666666667\n",
      "new set of weights found, iteration:  7657 loss : 1.0624626 acc:  0.43\n",
      "new set of weights found, iteration:  7660 loss : 1.0623862 acc:  0.44333333333333336\n",
      "new set of weights found, iteration:  7838 loss : 1.0621529 acc:  0.43666666666666665\n",
      "new set of weights found, iteration:  7938 loss : 1.0620137 acc:  0.45\n",
      "new set of weights found, iteration:  8102 loss : 1.0618871 acc:  0.43333333333333335\n",
      "new set of weights found, iteration:  8120 loss : 1.0614842 acc:  0.44666666666666666\n",
      "new set of weights found, iteration:  8136 loss : 1.0614076 acc:  0.4266666666666667\n",
      "new set of weights found, iteration:  8176 loss : 1.0614036 acc:  0.45\n",
      "new set of weights found, iteration:  8217 loss : 1.0610347 acc:  0.43\n",
      "new set of weights found, iteration:  8394 loss : 1.0609523 acc:  0.46\n",
      "new set of weights found, iteration:  8395 loss : 1.0606868 acc:  0.43333333333333335\n",
      "new set of weights found, iteration:  8450 loss : 1.0605187 acc:  0.45\n",
      "new set of weights found, iteration:  8487 loss : 1.0604533 acc:  0.44333333333333336\n",
      "new set of weights found, iteration:  8513 loss : 1.0603412 acc:  0.43333333333333335\n",
      "new set of weights found, iteration:  8702 loss : 1.0602993 acc:  0.44666666666666666\n",
      "new set of weights found, iteration:  8851 loss : 1.0601674 acc:  0.45666666666666667\n",
      "new set of weights found, iteration:  8862 loss : 1.0598934 acc:  0.43\n",
      "new set of weights found, iteration:  8877 loss : 1.0592318 acc:  0.46\n",
      "new set of weights found, iteration:  8914 loss : 1.0591803 acc:  0.43\n",
      "new set of weights found, iteration:  9078 loss : 1.0581204 acc:  0.4533333333333333\n",
      "new set of weights found, iteration:  9137 loss : 1.057936 acc:  0.46\n",
      "new set of weights found, iteration:  9244 loss : 1.0577724 acc:  0.4533333333333333\n",
      "new set of weights found, iteration:  9278 loss : 1.0575225 acc:  0.4766666666666667\n",
      "new set of weights found, iteration:  9291 loss : 1.0568968 acc:  0.44666666666666666\n",
      "new set of weights found, iteration:  9308 loss : 1.0568565 acc:  0.4633333333333333\n",
      "new set of weights found, iteration:  9374 loss : 1.0566938 acc:  0.4533333333333333\n",
      "new set of weights found, iteration:  9376 loss : 1.056576 acc:  0.4633333333333333\n",
      "new set of weights found, iteration:  9433 loss : 1.0563511 acc:  0.4666666666666667\n",
      "new set of weights found, iteration:  9450 loss : 1.0555589 acc:  0.44333333333333336\n",
      "new set of weights found, iteration:  9483 loss : 1.054573 acc:  0.44\n",
      "new set of weights found, iteration:  9492 loss : 1.054134 acc:  0.45666666666666667\n",
      "new set of weights found, iteration:  9659 loss : 1.0539101 acc:  0.43666666666666665\n",
      "new set of weights found, iteration:  9695 loss : 1.053713 acc:  0.4666666666666667\n",
      "new set of weights found, iteration:  9776 loss : 1.0535309 acc:  0.46\n",
      "new set of weights found, iteration:  9789 loss : 1.0530864 acc:  0.4666666666666667\n",
      "new set of weights found, iteration:  9955 loss : 1.0523697 acc:  0.45666666666666667\n"
     ]
    }
   ],
   "source": [
    "\n",
    "# adjust weights if randomization decreases loss, otherwise revert to previous values\n",
    "\n",
    "X, y = spiral_data(samples=100, classes=3)\n",
    "#X, y = vertical_data(samples=100, classes=3)\n",
    "\n",
    "dense1 = TinyVoice_Layer_Dense(2, 3)\n",
    "activation1 = Activation_ReLU()\n",
    "dense2 = TinyVoice_Layer_Dense(3, 3)\n",
    "activation2 = Activation_Softmax()\n",
    "\n",
    "loss_function = Loss_CategoricalCrossEntropy()\n",
    "\n",
    "lowest_loss = 9999999\n",
    "\n",
    "best_dense1_weights = dense1.weights.copy()\n",
    "best_dense1_biases = dense1.biases.copy()\n",
    "best_dense2_weights = dense2.weights.copy()\n",
    "best_dense2_biases = dense2.biases.copy()\n",
    "\n",
    "\n",
    "for iteration in range(10000):\n",
    "\n",
    "    dense1.weights += 0.05 * np.random.randn(2, 3)\n",
    "    dense1.biases += 0.05 * np.random.randn(1, 3)\n",
    "    dense2.weights += 0.05 * np.random.randn(3, 3)\n",
    "    dense2.biases += 0.05 * np.random.randn(1, 3)\n",
    "\n",
    "    dense1.forward(X)\n",
    "    activation1.forward(dense1.output)\n",
    "    dense2.forward(activation1.output)\n",
    "    activation2.forward(dense2.output)\n",
    "\n",
    "\n",
    "    loss = loss_function.calculate(activation2.output, y)\n",
    "\n",
    "    predictions = np.argmax(activation2.output, axis=1)\n",
    "\n",
    "    accuracy = np.mean(predictions==y)\n",
    "\n",
    "\n",
    "    if loss < lowest_loss:\n",
    "        print(\"new set of weights found, iteration: \", iteration, \"loss :\", loss, \"acc: \", accuracy)\n",
    "\n",
    "        best_dense1_weights = dense1.weights.copy()\n",
    "        best_dense1_biases = dense1.biases.copy()\n",
    "        best_dense2_weights = dense2.weights.copy()\n",
    "        best_dense2_biases = dense2.biases.copy()\n",
    "        lowest_loss = loss\n",
    "    else:\n",
    "        dense1.weights = best_dense1_weights.copy()\n",
    "        dense1.biases = best_dense1_biases.copy()\n",
    "        dense2.weights = best_dense2_weights.copy()\n",
    "        dense2.biases = best_dense2_biases.copy()\n",
    "\n"
   ]
  },
  {
   "cell_type": "code",
   "execution_count": null,
   "metadata": {},
   "outputs": [],
   "source": []
  }
 ],
 "metadata": {
  "kernelspec": {
   "display_name": "aql",
   "language": "python",
   "name": "python3"
  },
  "language_info": {
   "codemirror_mode": {
    "name": "ipython",
    "version": 3
   },
   "file_extension": ".py",
   "mimetype": "text/x-python",
   "name": "python",
   "nbconvert_exporter": "python",
   "pygments_lexer": "ipython3",
   "version": "3.12.5"
  }
 },
 "nbformat": 4,
 "nbformat_minor": 2
}
